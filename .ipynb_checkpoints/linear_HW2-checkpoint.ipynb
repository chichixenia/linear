{
 "cells": [
  {
   "cell_type": "markdown",
   "metadata": {},
   "source": [
    "花花有一投資組合，其中A資產占25%，B資產占75%，\n",
    "\n",
    "預期報酬率分別為：A資產10% , B資產7.5%，\n",
    "\n",
    "A資產的報酬變異數為0.06，B資產的報酬變異數為0.02，兩者的共變異數為0.025，\n",
    "\n",
    "請用矩陣方式算出此一投資組合的預期報酬與報酬變異數"
   ]
  },
  {
   "cell_type": "code",
   "execution_count": 23,
   "metadata": {},
   "outputs": [],
   "source": [
    "import numpy as np"
   ]
  },
  {
   "cell_type": "code",
   "execution_count": 24,
   "metadata": {},
   "outputs": [],
   "source": [
    "w = np.array([0.25 , 0.75])\n",
    "R = np.array([[0.1],\n",
    "            [0.075]])\n",
    "covar = np.array([[0.06,0.025],\n",
    "                 [0.025,0.02]])"
   ]
  },
  {
   "cell_type": "code",
   "execution_count": 25,
   "metadata": {},
   "outputs": [
    {
     "name": "stdout",
     "output_type": "stream",
     "text": [
      "Porfolio expected return = [0.08125], and variance = 0.024375\n"
     ]
    }
   ],
   "source": [
    "PortfolioReturn = w@R\n",
    "PortfolioVar = w@covar@w.transpose()\n",
    "print(\"Porfolio expected return = {}, and variance = {}\"\\\n",
    "      .format(PortfolioReturn,PortfolioVar))"
   ]
  }
 ],
 "metadata": {
  "kernelspec": {
   "display_name": "Python 3",
   "language": "python",
   "name": "python3"
  },
  "language_info": {
   "codemirror_mode": {
    "name": "ipython",
    "version": 3
   },
   "file_extension": ".py",
   "mimetype": "text/x-python",
   "name": "python",
   "nbconvert_exporter": "python",
   "pygments_lexer": "ipython3",
   "version": "3.7.4"
  }
 },
 "nbformat": 4,
 "nbformat_minor": 2
}
