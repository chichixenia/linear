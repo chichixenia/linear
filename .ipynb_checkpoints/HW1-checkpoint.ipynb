{
 "cells": [
  {
   "cell_type": "code",
   "execution_count": 2,
   "metadata": {},
   "outputs": [
    {
     "name": "stdout",
     "output_type": "stream",
     "text": [
      "155\n",
      "30\n",
      "12.5\n"
     ]
    }
   ],
   "source": [
    "# BMI計算\n",
    "h=input()\n",
    "w=input()\n",
    "y=(float(w)/(float(h)/100)**2)\n",
    "m=print(round(y,1))"
   ]
  },
  {
   "cell_type": "code",
   "execution_count": 4,
   "metadata": {},
   "outputs": [
    {
     "name": "stdout",
     "output_type": "stream",
     "text": [
      "MIKE 30 50 80\n",
      "MIKE total: 160.0 average: 53.3\n"
     ]
    }
   ],
   "source": [
    "# 算成績\n",
    "y=input()\n",
    "a=y.split(\" \")[1]\n",
    "b=y.split(\" \")[2]\n",
    "c=y.split(\" \")[3]\n",
    "sum=round(float(a)+float(b)+float(c),1)\n",
    "average=round(sum/3,1)\n",
    "print(y.split(\" \")[0]+' total: '+str(sum)+' average: '+str(average))\n"
   ]
  },
  {
   "cell_type": "code",
   "execution_count": 39,
   "metadata": {
    "scrolled": true
   },
   "outputs": [
    {
     "name": "stdout",
     "output_type": "stream",
     "text": [
      "Kuo Xenia\n",
      "380\n",
      "Xenia needs to pay 398 dollars\n"
     ]
    }
   ],
   "source": [
    "# 吃燒烤\n",
    "name=input()\n",
    "price=input()\n",
    "x=round(float(price)*1.1,0)\n",
    "if x>=200:\n",
    "    x-(int(x/200))*10\n",
    "    y=int(x-(int(x/200))*10)\n",
    "else:\n",
    "    y=(int(x))\n",
    "print(name.split(\" \")[1]+' needs'+' to'+' pay '+str(y)+' dollars')"
   ]
  },
  {
   "cell_type": "code",
   "execution_count": 3,
   "metadata": {},
   "outputs": [
    {
     "name": "stdout",
     "output_type": "stream",
     "text": [
      "CTT UTT AUU\n",
      "['C', '', ' U', '', ' AUU']\n"
     ]
    }
   ],
   "source": [
    "DNA=input()\n",
    "DNA = DNA.split('T')\n",
    "mDNA='U'.join(DNA.split('T'))\n",
    "print(mDNA)\n",
    "mDNA.split(\" \")\n",
    "print('-'.join(mDNA.split(\" \")))"
   ]
  },
  {
   "cell_type": "code",
   "execution_count": null,
   "metadata": {},
   "outputs": [],
   "source": []
  }
 ],
 "metadata": {
  "kernelspec": {
   "display_name": "Python 3",
   "language": "python",
   "name": "python3"
  },
  "language_info": {
   "codemirror_mode": {
    "name": "ipython",
    "version": 3
   },
   "file_extension": ".py",
   "mimetype": "text/x-python",
   "name": "python",
   "nbconvert_exporter": "python",
   "pygments_lexer": "ipython3",
   "version": "3.7.4"
  }
 },
 "nbformat": 4,
 "nbformat_minor": 2
}
