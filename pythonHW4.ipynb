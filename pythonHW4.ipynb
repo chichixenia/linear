{
 "cells": [
  {
   "cell_type": "code",
   "execution_count": 118,
   "metadata": {},
   "outputs": [],
   "source": [
    "dim = '4'\n",
    "matrix = ['1 0 1 0\\n', '0 0 0 0\\n', '1 1 1 1\\n', '0 1 0 1\\n']\n",
    "\n",
    "dim = int(dim)\n",
    "converted_matrix = []\n",
    "for row in matrix:\n",
    "    row = row.strip().split()\n",
    "    new_row = []\n",
    "    for i in row:\n",
    "        new_row.append(int(i))\n",
    "    converted_matrix.append(new_row)"
   ]
  },
  {
   "cell_type": "code",
   "execution_count": null,
   "metadata": {},
   "outputs": [],
   "source": []
  },
  {
   "cell_type": "code",
   "execution_count": 124,
   "metadata": {},
   "outputs": [
    {
     "name": "stdout",
     "output_type": "stream",
     "text": [
      "Change bit (2,2)\n"
     ]
    }
   ],
   "source": [
    "counter = 0\n",
    "for element in range(len(converted_matrix)):\n",
    "    if (sum(converted_matrix[element]) % 2) != 0:\n",
    "        counter += 1\n",
    "        x = element + 1\n",
    "caculator = 0\n",
    "for column in range(dim):\n",
    "    total = 0\n",
    "    for element in range(len(converted_matrix)):\n",
    "        total += converted_matrix[element][column]\n",
    "    if (total % 2) != 0:\n",
    "        caculator += 1\n",
    "        y = column + 1\n",
    "\n",
    "if counter == caculator == 0:\n",
    "    print('OK')\n",
    "elif counter == caculator == 1:\n",
    "    print('Change bit ({},{})'.format(x, y))\n",
    "else:\n",
    "    print('Corrupt')\n",
    "        \n",
    "\n",
    "\n",
    "\n",
    "\n",
    "\n",
    "\n",
    "    \n",
    "        \n",
    "    "
   ]
  },
  {
   "cell_type": "code",
   "execution_count": null,
   "metadata": {},
   "outputs": [],
   "source": []
  }
 ],
 "metadata": {
  "kernelspec": {
   "display_name": "Python 3",
   "language": "python",
   "name": "python3"
  },
  "language_info": {
   "codemirror_mode": {
    "name": "ipython",
    "version": 3
   },
   "file_extension": ".py",
   "mimetype": "text/x-python",
   "name": "python",
   "nbconvert_exporter": "python",
   "pygments_lexer": "ipython3",
   "version": "3.7.4"
  }
 },
 "nbformat": 4,
 "nbformat_minor": 2
}
