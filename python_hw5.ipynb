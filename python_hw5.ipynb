{
 "cells": [
  {
   "cell_type": "code",
   "execution_count": 61,
   "metadata": {},
   "outputs": [
    {
     "name": "stdout",
     "output_type": "stream",
     "text": [
      "A 1\n"
     ]
    }
   ],
   "source": [
    "words = ['apple','welcome','banana','cat','archive','once','australia','co','abc']\n",
    "# zoo\n",
    "# australia\n",
    "# cat\n",
    "# abc\n",
    "# co\n",
    "# banana\n",
    "# ad\n",
    "words= sorted(words)\n",
    "line = 'abc'\n",
    "dict=[]\n",
    "for i in words:\n",
    "    if i[0] == line[0]:\n",
    "        dict.append(i)\n",
    "print(dict.index(line)+1)\n",
    "\n",
    "        \n",
    "        \n",
    "\n",
    "# print(words)\n",
    "# for i in words:\n",
    "#     print(i[0].upper(),)\n",
    "    "
   ]
  },
  {
   "cell_type": "code",
   "execution_count": null,
   "metadata": {},
   "outputs": [],
   "source": []
  },
  {
   "cell_type": "code",
   "execution_count": null,
   "metadata": {},
   "outputs": [],
   "source": []
  }
 ],
 "metadata": {
  "kernelspec": {
   "display_name": "Python 3",
   "language": "python",
   "name": "python3"
  },
  "language_info": {
   "codemirror_mode": {
    "name": "ipython",
    "version": 3
   },
   "file_extension": ".py",
   "mimetype": "text/x-python",
   "name": "python",
   "nbconvert_exporter": "python",
   "pygments_lexer": "ipython3",
   "version": "3.7.4"
  }
 },
 "nbformat": 4,
 "nbformat_minor": 2
}
