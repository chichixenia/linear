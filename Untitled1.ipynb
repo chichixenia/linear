{
 "cells": [
  {
   "cell_type": "code",
   "execution_count": 2,
   "metadata": {},
   "outputs": [],
   "source": [
    "import numpy as np\n",
    "import sympy as sp"
   ]
  },
  {
   "cell_type": "code",
   "execution_count": 83,
   "metadata": {},
   "outputs": [
    {
     "data": {
      "text/latex": [
       "$\\displaystyle \\left[\\begin{matrix}1\\\\1\\\\1\\\\1\\\\1\\end{matrix}\\right]$"
      ],
      "text/plain": [
       "Matrix([\n",
       "[1],\n",
       "[1],\n",
       "[1],\n",
       "[1],\n",
       "[1]])"
      ]
     },
     "execution_count": 83,
     "metadata": {},
     "output_type": "execute_result"
    }
   ],
   "source": [
    "b = sp.Matrix([[1],\n",
    "               [1],\n",
    "               [1],\n",
    "               [1],\n",
    "               [1]])\n",
    "b"
   ]
  },
  {
   "cell_type": "code",
   "execution_count": null,
   "metadata": {},
   "outputs": [],
   "source": []
  },
  {
   "cell_type": "code",
   "execution_count": 7,
   "metadata": {},
   "outputs": [
    {
     "data": {
      "text/latex": [
       "$\\displaystyle \\left[\\begin{matrix}3.66666666666667 & -1.57142857142857 & 9\\\\4 & -1.71428571428571 & 9.81818181818182\\\\-0.333333333333333 & 0.375 & -2\\\\64 & -3.42857142857143 & 34.9090909090909\\end{matrix}\\right]$"
      ],
      "text/plain": [
       "Matrix([\n",
       "[  3.66666666666667, -1.57142857142857,                9],\n",
       "[                 4, -1.71428571428571, 9.81818181818182],\n",
       "[-0.333333333333333,             0.375,               -2],\n",
       "[                64, -3.42857142857143, 34.9090909090909]])"
      ]
     },
     "execution_count": 7,
     "metadata": {},
     "output_type": "execute_result"
    }
   ],
   "source": [
    "A = sp.Matrix([[(11/3),(-11/7),9],\n",
    "               [4,(-12/7),(108/11)],\n",
    "               [(-1/3),(3/8),-2],\n",
    "               [64,(-24/7),(384/11)]])\n",
    "A"
   ]
  },
  {
   "cell_type": "code",
   "execution_count": 8,
   "metadata": {},
   "outputs": [
    {
     "data": {
      "text/plain": [
       "(Matrix([\n",
       " [1, 0, 0],\n",
       " [0, 1, 0],\n",
       " [0, 0, 1],\n",
       " [0, 0, 0]]), (0, 1, 2))"
      ]
     },
     "execution_count": 8,
     "metadata": {},
     "output_type": "execute_result"
    }
   ],
   "source": [
    "A.rref()"
   ]
  },
  {
   "cell_type": "code",
   "execution_count": 73,
   "metadata": {},
   "outputs": [
    {
     "data": {
      "text/latex": [
       "$\\displaystyle \\left[\\begin{matrix}5 & -2 & -1 & -1 & -1 & 1\\\\-2 & 6 & -2 & -1 & -1 & 1\\\\-1 & -2 & 6 & -2 & -1 & 1\\\\-1 & -1 & -2 & 6 & -2 & 1\\\\-1 & -1 & -1 & -2 & 5 & 1\\end{matrix}\\right]$"
      ],
      "text/plain": [
       "Matrix([\n",
       "[ 5, -2, -1, -1, -1, 1],\n",
       "[-2,  6, -2, -1, -1, 1],\n",
       "[-1, -2,  6, -2, -1, 1],\n",
       "[-1, -1, -2,  6, -2, 1],\n",
       "[-1, -1, -1, -2,  5, 1]])"
      ]
     },
     "execution_count": 73,
     "metadata": {},
     "output_type": "execute_result"
    }
   ],
   "source": [
    "C = sp.Matrix([[5,-2,-1,-1,-1,1],\n",
    "              [-2,6,-2,-1,-1,1],\n",
    "              [-1,-2,6,-2,-1,1],\n",
    "              [-1,-1,-2,6,-2,1],\n",
    "              [-1,-1,-1,-2,5,1]])\n",
    "C"
   ]
  },
  {
   "cell_type": "code",
   "execution_count": 74,
   "metadata": {},
   "outputs": [
    {
     "data": {
      "text/latex": [
       "$\\displaystyle \\left[\\begin{matrix}1 & 0 & 0 & 0 & -1 & 0\\\\0 & 1 & 0 & 0 & -1 & 0\\\\0 & 0 & 1 & 0 & -1 & 0\\\\0 & 0 & 0 & 1 & -1 & 0\\\\0 & 0 & 0 & 0 & 0 & 1\\end{matrix}\\right]$"
      ],
      "text/plain": [
       "Matrix([\n",
       "[1, 0, 0, 0, -1, 0],\n",
       "[0, 1, 0, 0, -1, 0],\n",
       "[0, 0, 1, 0, -1, 0],\n",
       "[0, 0, 0, 1, -1, 0],\n",
       "[0, 0, 0, 0,  0, 1]])"
      ]
     },
     "execution_count": 74,
     "metadata": {},
     "output_type": "execute_result"
    }
   ],
   "source": [
    "C.rref()[0]"
   ]
  },
  {
   "cell_type": "code",
   "execution_count": null,
   "metadata": {},
   "outputs": [],
   "source": []
  }
 ],
 "metadata": {
  "kernelspec": {
   "display_name": "Python 3",
   "language": "python",
   "name": "python3"
  },
  "language_info": {
   "codemirror_mode": {
    "name": "ipython",
    "version": 3
   },
   "file_extension": ".py",
   "mimetype": "text/x-python",
   "name": "python",
   "nbconvert_exporter": "python",
   "pygments_lexer": "ipython3",
   "version": "3.7.4"
  }
 },
 "nbformat": 4,
 "nbformat_minor": 2
}
